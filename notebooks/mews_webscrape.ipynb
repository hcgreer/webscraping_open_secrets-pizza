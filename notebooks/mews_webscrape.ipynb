{
 "cells": [
  {
   "cell_type": "code",
   "execution_count": 30,
   "id": "f87dce66",
   "metadata": {},
   "outputs": [],
   "source": [
    "import requests\n",
    "from bs4 import BeautifulSoup as BS\n",
    "import pandas as pd\n",
    "import re\n",
    "import numpy as np"
   ]
  },
  {
   "cell_type": "code",
   "execution_count": 2,
   "id": "c4cb463a",
   "metadata": {},
   "outputs": [],
   "source": [
    "URL = 'https://www.opensecrets.org/races/candidates?cycle=2020&id=TN07&spec=N'\n",
    "response = requests.get(URL)"
   ]
  },
  {
   "cell_type": "code",
   "execution_count": 3,
   "id": "7c4f3ab2",
   "metadata": {},
   "outputs": [],
   "source": [
    "soup = BS(response.text)"
   ]
  },
  {
   "cell_type": "code",
   "execution_count": 46,
   "id": "81cee058",
   "metadata": {},
   "outputs": [
    {
     "data": {
      "text/plain": [
       "[<strong>\n",
       " <a href=\"/members-of-congress/mark-green/summary?cid=N00041873\">Mark Green (R) • <i>Incumbent</i></a>\n",
       "  • <span class=\"winner\"><i>Winner</i></span> <br/>\n",
       " <span class=\"Members--vote-pct\">(69.9% of vote)</span>\n",
       " </strong>,\n",
       " <strong>\n",
       " \t\t\t\t\t\t\t\t\t\tKiran Sreepada (D)\n",
       " \t\t\t\t\t\t\t\t\t\t<br/>\n",
       " <span class=\"Members--vote-pct\">(27.3% of vote)</span>\n",
       " </strong>,\n",
       " <strong>\n",
       " \t\t\t\t\t\t\t\t\t\tRonald Brown (I)\n",
       " \t\t\t\t\t\t\t\t\t\t<br/>\n",
       " <span class=\"Members--vote-pct\">(2.2% of vote)</span>\n",
       " </strong>,\n",
       " <strong>\n",
       " \t\t\t\t\t\t\t\t\t\tScott Vieira Jr (I)\n",
       " \t\t\t\t\t\t\t\t\t\t<br/>\n",
       " <span class=\"Members--vote-pct\">(0.6% of vote)</span>\n",
       " </strong>]"
      ]
     },
     "execution_count": 46,
     "metadata": {},
     "output_type": "execute_result"
    }
   ],
   "source": [
    "strong_tag = soup.find_all('strong')\n",
    "strong_tag"
   ]
  },
  {
   "cell_type": "code",
   "execution_count": 47,
   "id": "f252e9b8",
   "metadata": {},
   "outputs": [
    {
     "data": {
      "text/plain": [
       "'\\nMark Green (R) • Incumbent\\n • Winner \\n(69.9% of vote)\\n'"
      ]
     },
     "execution_count": 47,
     "metadata": {},
     "output_type": "execute_result"
    }
   ],
   "source": [
    "strong_tag[0].text"
   ]
  },
  {
   "cell_type": "code",
   "execution_count": 48,
   "id": "83b8acc8",
   "metadata": {},
   "outputs": [
    {
     "data": {
      "text/plain": [
       "'\\n\\t\\t\\t\\t\\t\\t\\t\\t\\t\\tKiran Sreepada (D)\\n\\t\\t\\t\\t\\t\\t\\t\\t\\t\\t\\n(27.3% of vote)\\n'"
      ]
     },
     "execution_count": 48,
     "metadata": {},
     "output_type": "execute_result"
    }
   ],
   "source": [
    "strong_tag[1].text"
   ]
  },
  {
   "cell_type": "code",
   "execution_count": 49,
   "id": "11bb7d33",
   "metadata": {
    "scrolled": true
   },
   "outputs": [
    {
     "data": {
      "text/plain": [
       "['Mark Green (R) • Incumbent\\n • Winner \\n(69.9% of vote)',\n",
       " 'Kiran Sreepada (D)\\n\\t\\t\\t\\t\\t\\t\\t\\t\\t\\t\\n(27.3% of vote)',\n",
       " 'Ronald Brown (I)\\n\\t\\t\\t\\t\\t\\t\\t\\t\\t\\t\\n(2.2% of vote)',\n",
       " 'Scott Vieira Jr (I)\\n\\t\\t\\t\\t\\t\\t\\t\\t\\t\\t\\n(0.6% of vote)']"
      ]
     },
     "execution_count": 49,
     "metadata": {},
     "output_type": "execute_result"
    }
   ],
   "source": [
    "candidate_list = [x.text.strip() for x in strong_tag]\n",
    "candidate_list"
   ]
  },
  {
   "cell_type": "code",
   "execution_count": 72,
   "id": "671c93e5",
   "metadata": {},
   "outputs": [
    {
     "data": {
      "text/html": [
       "<div>\n",
       "<style scoped>\n",
       "    .dataframe tbody tr th:only-of-type {\n",
       "        vertical-align: middle;\n",
       "    }\n",
       "\n",
       "    .dataframe tbody tr th {\n",
       "        vertical-align: top;\n",
       "    }\n",
       "\n",
       "    .dataframe thead th {\n",
       "        text-align: right;\n",
       "    }\n",
       "</style>\n",
       "<table border=\"1\" class=\"dataframe\">\n",
       "  <thead>\n",
       "    <tr style=\"text-align: right;\">\n",
       "      <th></th>\n",
       "      <th>all</th>\n",
       "    </tr>\n",
       "  </thead>\n",
       "  <tbody>\n",
       "    <tr>\n",
       "      <th>0</th>\n",
       "      <td>Mark Green (R) • Incumbent\\n • Winner \\n(69.9%...</td>\n",
       "    </tr>\n",
       "    <tr>\n",
       "      <th>1</th>\n",
       "      <td>Kiran Sreepada (D)\\n\\t\\t\\t\\t\\t\\t\\t\\t\\t\\t\\n(27....</td>\n",
       "    </tr>\n",
       "    <tr>\n",
       "      <th>2</th>\n",
       "      <td>Ronald Brown (I)\\n\\t\\t\\t\\t\\t\\t\\t\\t\\t\\t\\n(2.2% ...</td>\n",
       "    </tr>\n",
       "    <tr>\n",
       "      <th>3</th>\n",
       "      <td>Scott Vieira Jr (I)\\n\\t\\t\\t\\t\\t\\t\\t\\t\\t\\t\\n(0....</td>\n",
       "    </tr>\n",
       "  </tbody>\n",
       "</table>\n",
       "</div>"
      ],
      "text/plain": [
       "                                                 all\n",
       "0  Mark Green (R) • Incumbent\\n • Winner \\n(69.9%...\n",
       "1  Kiran Sreepada (D)\\n\\t\\t\\t\\t\\t\\t\\t\\t\\t\\t\\n(27....\n",
       "2  Ronald Brown (I)\\n\\t\\t\\t\\t\\t\\t\\t\\t\\t\\t\\n(2.2% ...\n",
       "3  Scott Vieira Jr (I)\\n\\t\\t\\t\\t\\t\\t\\t\\t\\t\\t\\n(0...."
      ]
     },
     "execution_count": 72,
     "metadata": {},
     "output_type": "execute_result"
    }
   ],
   "source": [
    "candidate_df = pd.DataFrame(candidate_list, columns=['all'])\n",
    "candidate_df"
   ]
  },
  {
   "cell_type": "code",
   "execution_count": 85,
   "id": "36f5fa35",
   "metadata": {},
   "outputs": [
    {
     "data": {
      "text/html": [
       "<div>\n",
       "<style scoped>\n",
       "    .dataframe tbody tr th:only-of-type {\n",
       "        vertical-align: middle;\n",
       "    }\n",
       "\n",
       "    .dataframe tbody tr th {\n",
       "        vertical-align: top;\n",
       "    }\n",
       "\n",
       "    .dataframe thead th {\n",
       "        text-align: right;\n",
       "    }\n",
       "</style>\n",
       "<table border=\"1\" class=\"dataframe\">\n",
       "  <thead>\n",
       "    <tr style=\"text-align: right;\">\n",
       "      <th></th>\n",
       "      <th>all</th>\n",
       "      <th>name</th>\n",
       "      <th>party</th>\n",
       "      <th>vote</th>\n",
       "      <th>winner</th>\n",
       "      <th>incumbent</th>\n",
       "    </tr>\n",
       "  </thead>\n",
       "  <tbody>\n",
       "    <tr>\n",
       "      <th>0</th>\n",
       "      <td>Mark Green (R) • Incumbent\\n • Winner \\n(69.9%...</td>\n",
       "      <td>Mark Green</td>\n",
       "      <td>R</td>\n",
       "      <td>69.9%</td>\n",
       "      <td>Winner</td>\n",
       "      <td>Incumbent</td>\n",
       "    </tr>\n",
       "    <tr>\n",
       "      <th>1</th>\n",
       "      <td>Kiran Sreepada (D)\\n\\t\\t\\t\\t\\t\\t\\t\\t\\t\\t\\n(27....</td>\n",
       "      <td>Kiran Sreepada</td>\n",
       "      <td>D</td>\n",
       "      <td>27.3%</td>\n",
       "      <td>No</td>\n",
       "      <td>No</td>\n",
       "    </tr>\n",
       "    <tr>\n",
       "      <th>2</th>\n",
       "      <td>Ronald Brown (I)\\n\\t\\t\\t\\t\\t\\t\\t\\t\\t\\t\\n(2.2% ...</td>\n",
       "      <td>Ronald Brown</td>\n",
       "      <td>I</td>\n",
       "      <td>2.2%</td>\n",
       "      <td>No</td>\n",
       "      <td>No</td>\n",
       "    </tr>\n",
       "    <tr>\n",
       "      <th>3</th>\n",
       "      <td>Scott Vieira Jr (I)\\n\\t\\t\\t\\t\\t\\t\\t\\t\\t\\t\\n(0....</td>\n",
       "      <td>Scott Vieira Jr</td>\n",
       "      <td>I</td>\n",
       "      <td>0.6%</td>\n",
       "      <td>No</td>\n",
       "      <td>No</td>\n",
       "    </tr>\n",
       "  </tbody>\n",
       "</table>\n",
       "</div>"
      ],
      "text/plain": [
       "                                                 all             name party  \\\n",
       "0  Mark Green (R) • Incumbent\\n • Winner \\n(69.9%...       Mark Green     R   \n",
       "1  Kiran Sreepada (D)\\n\\t\\t\\t\\t\\t\\t\\t\\t\\t\\t\\n(27....   Kiran Sreepada     D   \n",
       "2  Ronald Brown (I)\\n\\t\\t\\t\\t\\t\\t\\t\\t\\t\\t\\n(2.2% ...     Ronald Brown     I   \n",
       "3  Scott Vieira Jr (I)\\n\\t\\t\\t\\t\\t\\t\\t\\t\\t\\t\\n(0....  Scott Vieira Jr     I   \n",
       "\n",
       "    vote  winner  incumbent  \n",
       "0  69.9%  Winner  Incumbent  \n",
       "1  27.3%      No         No  \n",
       "2   2.2%      No         No  \n",
       "3   0.6%      No         No  "
      ]
     },
     "execution_count": 85,
     "metadata": {},
     "output_type": "execute_result"
    }
   ],
   "source": [
    "candidate_df['name'] = candidate_df['all'].str.extract('(.+ .+) \\(\\w')\n",
    "candidate_df['party'] = candidate_df['all'].str.extract('\\((\\w)\\)')\n",
    "candidate_df['vote'] = candidate_df['all'].str.extract('(\\d*[.?]\\d*\\%)')\n",
    "candidate_df['winner'] = candidate_df['all'].str.extract('(Winner)').fillna('No')\n",
    "candidate_df['incumbent'] = candidate_df['all'].str.extract('(Incumbent)').fillna('No')\n",
    "candidate_df"
   ]
  },
  {
   "cell_type": "code",
   "execution_count": null,
   "id": "e6f1a89c",
   "metadata": {},
   "outputs": [],
   "source": []
  }
 ],
 "metadata": {
  "kernelspec": {
   "display_name": "Python 3 (ipykernel)",
   "language": "python",
   "name": "python3"
  },
  "language_info": {
   "codemirror_mode": {
    "name": "ipython",
    "version": 3
   },
   "file_extension": ".py",
   "mimetype": "text/x-python",
   "name": "python",
   "nbconvert_exporter": "python",
   "pygments_lexer": "ipython3",
   "version": "3.9.12"
  }
 },
 "nbformat": 4,
 "nbformat_minor": 5
}

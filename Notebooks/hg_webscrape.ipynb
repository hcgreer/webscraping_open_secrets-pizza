{
 "cells": [
  {
   "cell_type": "code",
   "execution_count": 2,
   "id": "8fa1c455",
   "metadata": {},
   "outputs": [],
   "source": [
    "import requests\n",
    "from bs4 import BeautifulSoup as BS\n",
    "import pandas as pd\n",
    "import re"
   ]
  },
  {
   "cell_type": "code",
   "execution_count": 28,
   "id": "5c635fa2",
   "metadata": {},
   "outputs": [],
   "source": [
    "URL = 'https://www.opensecrets.org/races/summary?cycle=2022&id=TN07&spec=N'\n",
    "\n",
    "response = requests.get(URL)"
   ]
  },
  {
   "cell_type": "code",
   "execution_count": 33,
   "id": "5cda6652",
   "metadata": {},
   "outputs": [],
   "source": [
    "state = re.search(\n",
    "    r'[A-Z][a-z]+(?: [A-Z][a-hj-z][a-z]+)?', \n",
    "    BS(response.text).findAll('title')[0].text \n",
    ")[0]"
   ]
  },
  {
   "cell_type": "code",
   "execution_count": 34,
   "id": "edd1fc56",
   "metadata": {},
   "outputs": [],
   "source": [
    "district = re.search(\n",
    "    r'District [0-9]{2}', \n",
    "    BS(response.text).findAll('title')[0].text\n",
    ")[0]"
   ]
  },
  {
   "cell_type": "code",
   "execution_count": 41,
   "id": "31053a21",
   "metadata": {},
   "outputs": [],
   "source": [
    "state_dict = {\n",
    "    'State' : [state],\n",
    "    'District' : [district]\n",
    "}"
   ]
  },
  {
   "cell_type": "code",
   "execution_count": 42,
   "id": "16e80a4b",
   "metadata": {},
   "outputs": [
    {
     "data": {
      "text/html": [
       "<div>\n",
       "<style scoped>\n",
       "    .dataframe tbody tr th:only-of-type {\n",
       "        vertical-align: middle;\n",
       "    }\n",
       "\n",
       "    .dataframe tbody tr th {\n",
       "        vertical-align: top;\n",
       "    }\n",
       "\n",
       "    .dataframe thead th {\n",
       "        text-align: right;\n",
       "    }\n",
       "</style>\n",
       "<table border=\"1\" class=\"dataframe\">\n",
       "  <thead>\n",
       "    <tr style=\"text-align: right;\">\n",
       "      <th></th>\n",
       "      <th>State</th>\n",
       "      <th>District</th>\n",
       "    </tr>\n",
       "  </thead>\n",
       "  <tbody>\n",
       "    <tr>\n",
       "      <th>0</th>\n",
       "      <td>Tennessee</td>\n",
       "      <td>District 07</td>\n",
       "    </tr>\n",
       "  </tbody>\n",
       "</table>\n",
       "</div>"
      ],
      "text/plain": [
       "       State     District\n",
       "0  Tennessee  District 07"
      ]
     },
     "execution_count": 42,
     "metadata": {},
     "output_type": "execute_result"
    }
   ],
   "source": [
    "pd.DataFrame.from_dict(state_dict)"
   ]
  },
  {
   "cell_type": "code",
   "execution_count": null,
   "id": "08760b49",
   "metadata": {},
   "outputs": [],
   "source": []
  }
 ],
 "metadata": {
  "kernelspec": {
   "display_name": "Python 3 (ipykernel)",
   "language": "python",
   "name": "python3"
  },
  "language_info": {
   "codemirror_mode": {
    "name": "ipython",
    "version": 3
   },
   "file_extension": ".py",
   "mimetype": "text/x-python",
   "name": "python",
   "nbconvert_exporter": "python",
   "pygments_lexer": "ipython3",
   "version": "3.9.12"
  }
 },
 "nbformat": 4,
 "nbformat_minor": 5
}

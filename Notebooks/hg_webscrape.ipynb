{
 "cells": [
  {
   "cell_type": "code",
   "execution_count": 89,
   "id": "8fa1c455",
   "metadata": {},
   "outputs": [],
   "source": [
    "import requests\n",
    "from bs4 import BeautifulSoup as BS\n",
    "import pandas as pd\n",
    "import re\n",
    "import time\n",
    "import matplotlib.pyplot as plt\n",
    "import seaborn as sns\n",
    "import statsmodels.api as sm\n",
    "import statsmodels.formula.api as smf\n",
    "import numpy as np\n",
    "from scipy.stats import chi2\n",
    "sns.set_theme(style = 'dark', palette = 'Dark2')"
   ]
  },
  {
   "cell_type": "code",
   "execution_count": 34,
   "id": "5c635fa2",
   "metadata": {},
   "outputs": [],
   "source": [
    "URL = 'https://www.opensecrets.org/races/candidates?cycle=2020&id=TN07&spec=N'\n",
    "\n",
    "response = requests.get(URL)"
   ]
  },
  {
   "cell_type": "code",
   "execution_count": 41,
   "id": "5cda6652",
   "metadata": {},
   "outputs": [
    {
     "data": {
      "text/plain": [
       "str"
      ]
     },
     "execution_count": 41,
     "metadata": {},
     "output_type": "execute_result"
    }
   ],
   "source": [
    "state = re.search(\n",
    "    r'[A-Z][a-z]+(?: [A-Z][a-hj-z][a-z]+)?', \n",
    "    BS(response.text).findAll('title')[0].text \n",
    ")[0]\n",
    "type(state)"
   ]
  },
  {
   "cell_type": "code",
   "execution_count": 36,
   "id": "edd1fc56",
   "metadata": {},
   "outputs": [
    {
     "data": {
      "text/plain": [
       "str"
      ]
     },
     "execution_count": 36,
     "metadata": {},
     "output_type": "execute_result"
    }
   ],
   "source": [
    "district = re.search(\n",
    "    r'District [0-9]{2}', \n",
    "    BS(response.text).findAll('title')[0].text\n",
    ")[0]\n",
    "type(district)"
   ]
  },
  {
   "cell_type": "code",
   "execution_count": 37,
   "id": "31053a21",
   "metadata": {},
   "outputs": [],
   "source": [
    "state_dict = {\n",
    "    'State' : [state],\n",
    "    'District' : [district]\n",
    "}"
   ]
  },
  {
   "cell_type": "code",
   "execution_count": 38,
   "id": "16e80a4b",
   "metadata": {},
   "outputs": [
    {
     "data": {
      "text/html": [
       "<div>\n",
       "<style scoped>\n",
       "    .dataframe tbody tr th:only-of-type {\n",
       "        vertical-align: middle;\n",
       "    }\n",
       "\n",
       "    .dataframe tbody tr th {\n",
       "        vertical-align: top;\n",
       "    }\n",
       "\n",
       "    .dataframe thead th {\n",
       "        text-align: right;\n",
       "    }\n",
       "</style>\n",
       "<table border=\"1\" class=\"dataframe\">\n",
       "  <thead>\n",
       "    <tr style=\"text-align: right;\">\n",
       "      <th></th>\n",
       "      <th>State</th>\n",
       "      <th>District</th>\n",
       "    </tr>\n",
       "  </thead>\n",
       "  <tbody>\n",
       "    <tr>\n",
       "      <th>0</th>\n",
       "      <td>Tennessee</td>\n",
       "      <td>District 07</td>\n",
       "    </tr>\n",
       "  </tbody>\n",
       "</table>\n",
       "</div>"
      ],
      "text/plain": [
       "       State     District\n",
       "0  Tennessee  District 07"
      ]
     },
     "execution_count": 38,
     "metadata": {},
     "output_type": "execute_result"
    }
   ],
   "source": [
    "pd.DataFrame.from_dict(state_dict)"
   ]
  },
  {
   "cell_type": "code",
   "execution_count": 2,
   "id": "1b03f515",
   "metadata": {},
   "outputs": [],
   "source": [
    "def district_scraper(state, district):\n",
    "    URL = f'https://www.opensecrets.org/races/candidates?cycle=2020&id={state}{district}&spec=N'\n",
    "    \n",
    "    request_url = requests.get(URL)\n",
    "    tm=0\n",
    "\n",
    "    while request_url.status_code != 200:\n",
    "        print('Waiting for ' + state + ' ' + district +'.')\n",
    "        time.sleep(10)\n",
    "        request_url = requests.get(URL)\n",
    "        tm = tm + 1\n",
    "        if tm == 10:\n",
    "            break\n",
    "    \n",
    "    \n",
    "    soup = BS(request_url.text)\n",
    "    \n",
    "    candidate_list = [x.text.strip() for x in soup.find_all('strong')]\n",
    "    finances = (pd\n",
    "        .read_html(\n",
    "            str(soup.findAll('table', attrs={'class' : 'Members--table'}))\n",
    "                .replace('$','')\n",
    "                .replace(':', '')\n",
    "        )\n",
    "    )\n",
    "    \n",
    "    \n",
    "    temp_df = pd.DataFrame()\n",
    "    \n",
    "    temp_df['name'] = [re.findall(r'(.+ .+) \\(\\w', item)[0] for item in candidate_list]\n",
    "    \n",
    "    temp_df['party'] = [re.findall(r'\\((\\w)\\)', item)[0] for item in candidate_list]\n",
    "    \n",
    "    temp_df['state'] = str(re.search(r'[A-Z][a-z]+(?: [A-Z][a-z][a-rt-z][a-z]+)?',\n",
    "                                     soup.findAll('title')[0].text)[0])\n",
    "    \n",
    "    temp_df['district'] = str(re.findall(r'District ([0-9]{2})', soup.findAll('title')[0].text)[0])\n",
    "    \n",
    "    temp_df['incumbent'] = ['Incumbent' if re.search(r'(Incumbent)', str(item)) != None \n",
    "                            else 'Not Incumbent' for item in candidate_list]\n",
    "    \n",
    "    temp_df['winner'] = ['Winner' if re.search(r'(Winner)', str(item)) is not None\n",
    "                              else 'Not Winner' for item in candidate_list]\n",
    "    \n",
    "    temp_df['vote'] = [re.findall(r'(\\d*[.?]\\d*\\%)', item)[0] for item in candidate_list]\n",
    "    \n",
    "    temp_df['raised'] = [finances[i].iloc[0,1] for i in range(len(candidate_list))]\n",
    "    \n",
    "    temp_df['spent'] = [finances[i].iloc[1,1] for i in range(len(candidate_list))]\n",
    "    \n",
    "    temp_df['cash_on_hand'] = [finances[i].iloc[2,1] for i in range(len(candidate_list))]\n",
    "    \n",
    "    global candidate_df\n",
    "    candidate_df = pd.concat([candidate_df, temp_df])\n",
    "    candidate_df = candidate_df.reset_index(drop=True)"
   ]
  },
  {
   "cell_type": "code",
   "execution_count": 3,
   "id": "75695bcc",
   "metadata": {},
   "outputs": [],
   "source": [
    "district_dict = {\n",
    "'AL': 7, 'AK': 1, 'AZ': 9, 'AR': 4, 'CA': 53, 'CO': 7, 'CT': 5, 'DE': 1,'FL': 27, 'GA': 14, \n",
    "'HI': 2, 'ID': 2, 'IL': 18, 'IN': 9, 'IA': 4, 'KS': 4, 'KY': 6, 'LA': 6, 'ME': 2, 'MD': 8,\n",
    "'MA': 9, 'MI': 14, 'MN': 8, 'MS': 4, 'MO': 8, 'MT': 1, 'NE': 3, 'NV': 4, 'NH': 2, 'NJ': 12,\n",
    "'NM': 3, 'NY': 27, 'NC': 13, 'ND': 1, 'OH': 16, 'OK': 5, 'OR': 5, 'PA': 18, 'RI': 2, 'SC': 7,\n",
    "'SD': 1, 'TN': 9, 'TX': 36, 'UT': 4, 'VT': 1, 'VA': 11, 'WA': 10, 'WV': 3, 'WI': 8, 'WY': 1\n",
    "}"
   ]
  },
  {
   "cell_type": "code",
   "execution_count": 4,
   "id": "73230717",
   "metadata": {},
   "outputs": [],
   "source": [
    "def state_candidate(state = all, district = all):\n",
    "    global candidate_df\n",
    "    candidate_df = pd.DataFrame()\n",
    "    global district_dict\n",
    "\n",
    "    if state == all and district == all:\n",
    "        for s, d in district_dict.items():\n",
    "            for num in range(1, d + 1):\n",
    "                district_scraper(str(s), str(num).zfill(2))\n",
    "    \n",
    "    elif district == all:\n",
    "        for num in range(1, district_dict[state] + 1):\n",
    "            district_scraper(str(state), str(num).zfill(2))\n",
    "    \n",
    "    elif state == all:\n",
    "        for s, d in district_dict.items():\n",
    "            try:   \n",
    "                district_scraper(str(s), str(district).zfill(2))\n",
    "            except:\n",
    "                pass\n",
    "    \n",
    "    else:\n",
    "        district_scraper(str(state), str(district).zfill(2))\n",
    "    \n",
    "    return candidate_df"
   ]
  },
  {
   "cell_type": "code",
   "execution_count": 14,
   "id": "f166d8de",
   "metadata": {},
   "outputs": [
    {
     "name": "stdout",
     "output_type": "stream",
     "text": [
      "waiting for MN07\n",
      "waiting for MN07\n",
      "waiting for MN07\n",
      "waiting for MN07\n",
      "waiting for MN07\n",
      "waiting for MN07\n",
      "waiting for MN07\n",
      "waiting for WI06\n",
      "waiting for WI06\n",
      "waiting for WI06\n",
      "waiting for WI06\n",
      "waiting for WI06\n",
      "waiting for WI06\n",
      "waiting for WI06\n"
     ]
    }
   ],
   "source": [
    "state_candidate(all, all).to_csv('../data/all_candidates.csv')"
   ]
  },
  {
   "cell_type": "code",
   "execution_count": 46,
   "id": "350df82e",
   "metadata": {},
   "outputs": [],
   "source": [
    "all_candidates = pd.read_csv('../data/all_candidates.csv')"
   ]
  },
  {
   "cell_type": "code",
   "execution_count": 6,
   "id": "100c900e",
   "metadata": {},
   "outputs": [
    {
     "data": {
      "text/plain": [
       "(892, 11)"
      ]
     },
     "execution_count": 6,
     "metadata": {},
     "output_type": "execute_result"
    }
   ],
   "source": [
    "all_candidates.shape"
   ]
  },
  {
   "cell_type": "code",
   "execution_count": 7,
   "id": "6bb4476d",
   "metadata": {},
   "outputs": [
    {
     "data": {
      "text/plain": [
       "winner\n",
       "Winner        384\n",
       "Not Winner     51\n",
       "Name: name, dtype: int64"
      ]
     },
     "execution_count": 7,
     "metadata": {},
     "output_type": "execute_result"
    }
   ],
   "source": [
    "all_candidates[\n",
    "    all_candidates['raised'].isin(all_candidates.groupby(['state', 'district'])['raised'].max())\n",
    "].groupby('winner')['name'].count().sort_values(ascending = False)"
   ]
  },
  {
   "cell_type": "code",
   "execution_count": 8,
   "id": "e990bdd9",
   "metadata": {},
   "outputs": [
    {
     "data": {
      "text/plain": [
       "winner\n",
       "Winner        381\n",
       "Not Winner     54\n",
       "Name: name, dtype: int64"
      ]
     },
     "execution_count": 8,
     "metadata": {},
     "output_type": "execute_result"
    }
   ],
   "source": [
    "all_candidates[\n",
    "    all_candidates['spent'].isin(all_candidates.groupby(['state', 'district'])['spent'].max())\n",
    "].groupby('winner')['name'].count().sort_values(ascending = False)"
   ]
  },
  {
   "cell_type": "markdown",
   "id": "76b498c1",
   "metadata": {},
   "source": [
    "## Part c\n",
    "Yes"
   ]
  },
  {
   "cell_type": "code",
   "execution_count": 9,
   "id": "77993214",
   "metadata": {},
   "outputs": [
    {
     "data": {
      "text/plain": [
       "winner\n",
       "Winner        371\n",
       "Not Winner     15\n",
       "Name: name, dtype: int64"
      ]
     },
     "execution_count": 9,
     "metadata": {},
     "output_type": "execute_result"
    }
   ],
   "source": [
    "all_candidates.loc[\n",
    "    all_candidates['incumbent'] == 'Incumbent'\n",
    "].groupby('winner')['name'].count().sort_values(ascending = False)"
   ]
  },
  {
   "cell_type": "code",
   "execution_count": 10,
   "id": "7427315e",
   "metadata": {},
   "outputs": [
    {
     "data": {
      "image/png": "[encoded data removed]",
      "text/plain": [
       "<Figure size 720x432 with 1 Axes>"
      ]
     },
     "metadata": {},
     "output_type": "display_data"
    }
   ],
   "source": [
    "fig, ax = plt.subplots(figsize = (10,6))\n",
    "\n",
    "sns.boxplot(\n",
    "    data = all_candidates,\n",
    "    x = all_candidates['raised'] / 1000,\n",
    "    y = all_candidates['incumbent'].sort_values(),\n",
    "    ax = ax\n",
    ").set(\n",
    "    xlabel='Raised per 1000 dollars', \n",
    "    ylabel = ' '\n",
    ");"
   ]
  },
  {
   "cell_type": "code",
   "execution_count": 11,
   "id": "d3270d02",
   "metadata": {
    "scrolled": true
   },
   "outputs": [
    {
     "data": {
      "image/png": "[encoded data removed]",
      "text/plain": [
       "<Figure size 720x432 with 1 Axes>"
      ]
     },
     "metadata": {},
     "output_type": "display_data"
    }
   ],
   "source": [
    "fig, ax = plt.subplots(figsize = (10,6))\n",
    "\n",
    "sns.boxplot(\n",
    "    data = all_candidates,\n",
    "    x = all_candidates['raised'] / 1000,\n",
    "    y = all_candidates['incumbent'].sort_values(),\n",
    "    ax = ax\n",
    ").set(\n",
    "    xlabel='Raised per 1000 dollars', \n",
    "    ylabel = ' '\n",
    ");\n",
    "ax.set_xlim(0, 10000);"
   ]
  },
  {
   "cell_type": "code",
   "execution_count": 47,
   "id": "7f639d7f",
   "metadata": {},
   "outputs": [],
   "source": [
    "all_candidates = all_candidates.drop(columns = ['Unnamed: 0'])\n",
    "all_candidates['winner_dum'] = pd.get_dummies(all_candidates['winner'])['Winner']\n",
    "all_candidates['incumbent_dum'] = pd.get_dummies(all_candidates['incumbent'])['Incumbent']"
   ]
  },
  {
   "cell_type": "code",
   "execution_count": 48,
   "id": "56f2bab0",
   "metadata": {},
   "outputs": [
    {
     "name": "stdout",
     "output_type": "stream",
     "text": [
      "Optimization terminated successfully.\n",
      "         Current function value: 0.277630\n",
      "         Iterations 7\n"
     ]
    }
   ],
   "source": [
    "win_incum_logreg = smf.logit(\"winner_dum ~ incumbent_dum\",\n",
    "                          data = all_candidates).fit()"
   ]
  },
  {
   "cell_type": "code",
   "execution_count": 49,
   "id": "530d39d8",
   "metadata": {},
   "outputs": [
    {
     "data": {
      "text/html": [
       "<table class=\"simpletable\">\n",
       "<caption>Logit Regression Results</caption>\n",
       "<tr>\n",
       "  <th>Dep. Variable:</th>      <td>winner_dum</td>    <th>  No. Observations:  </th>   <td>   892</td>  \n",
       "</tr>\n",
       "<tr>\n",
       "  <th>Model:</th>                 <td>Logit</td>      <th>  Df Residuals:      </th>   <td>   890</td>  \n",
       "</tr>\n",
       "<tr>\n",
       "  <th>Method:</th>                 <td>MLE</td>       <th>  Df Model:          </th>   <td>     1</td>  \n",
       "</tr>\n",
       "<tr>\n",
       "  <th>Date:</th>            <td>Sat, 15 Oct 2022</td> <th>  Pseudo R-squ.:     </th>   <td>0.5991</td>  \n",
       "</tr>\n",
       "<tr>\n",
       "  <th>Time:</th>                <td>12:08:51</td>     <th>  Log-Likelihood:    </th>  <td> -247.65</td> \n",
       "</tr>\n",
       "<tr>\n",
       "  <th>converged:</th>             <td>True</td>       <th>  LL-Null:           </th>  <td> -617.78</td> \n",
       "</tr>\n",
       "<tr>\n",
       "  <th>Covariance Type:</th>     <td>nonrobust</td>    <th>  LLR p-value:       </th> <td>5.229e-163</td>\n",
       "</tr>\n",
       "</table>\n",
       "<table class=\"simpletable\">\n",
       "<tr>\n",
       "        <td></td>           <th>coef</th>     <th>std err</th>      <th>z</th>      <th>P>|z|</th>  <th>[0.025</th>    <th>0.975]</th>  \n",
       "</tr>\n",
       "<tr>\n",
       "  <th>Intercept</th>     <td>   -2.0060</td> <td>    0.138</td> <td>  -14.588</td> <td> 0.000</td> <td>   -2.275</td> <td>   -1.736</td>\n",
       "</tr>\n",
       "<tr>\n",
       "  <th>incumbent_dum</th> <td>    5.2141</td> <td>    0.297</td> <td>   17.550</td> <td> 0.000</td> <td>    4.632</td> <td>    5.796</td>\n",
       "</tr>\n",
       "</table>"
      ],
      "text/plain": [
       "<class 'statsmodels.iolib.summary.Summary'>\n",
       "\"\"\"\n",
       "                           Logit Regression Results                           \n",
       "==============================================================================\n",
       "Dep. Variable:             winner_dum   No. Observations:                  892\n",
       "Model:                          Logit   Df Residuals:                      890\n",
       "Method:                           MLE   Df Model:                            1\n",
       "Date:                Sat, 15 Oct 2022   Pseudo R-squ.:                  0.5991\n",
       "Time:                        12:08:51   Log-Likelihood:                -247.65\n",
       "converged:                       True   LL-Null:                       -617.78\n",
       "Covariance Type:            nonrobust   LLR p-value:                5.229e-163\n",
       "=================================================================================\n",
       "                    coef    std err          z      P>|z|      [0.025      0.975]\n",
       "---------------------------------------------------------------------------------\n",
       "Intercept        -2.0060      0.138    -14.588      0.000      -2.275      -1.736\n",
       "incumbent_dum     5.2141      0.297     17.550      0.000       4.632       5.796\n",
       "=================================================================================\n",
       "\"\"\""
      ]
     },
     "execution_count": 49,
     "metadata": {},
     "output_type": "execute_result"
    }
   ],
   "source": [
    "win_incum_logreg.summary()"
   ]
  },
  {
   "cell_type": "code",
   "execution_count": 82,
   "id": "85c0f41a",
   "metadata": {},
   "outputs": [
    {
     "data": {
      "text/plain": [
       "183.8511111111114"
      ]
     },
     "execution_count": 82,
     "metadata": {},
     "output_type": "execute_result"
    }
   ],
   "source": [
    "np.exp(win_incum_logreg.params['incumbent_dum'])"
   ]
  },
  {
   "cell_type": "code",
   "execution_count": 81,
   "id": "abbe9326",
   "metadata": {},
   "outputs": [
    {
     "data": {
      "image/png": "[encoded data removed]",
      "text/plain": [
       "<Figure size 720x432 with 1 Axes>"
      ]
     },
     "metadata": {},
     "output_type": "display_data"
    }
   ],
   "source": [
    "fit_df = pd.DataFrame({\n",
    "    'incumbent_dum': np.linspace(start = all_candidates['incumbent_dum'].min(),\n",
    "                            stop = all_candidates['incumbent_dum'].max(),\n",
    "                            num = 150)\n",
    "})\n",
    "\n",
    "fit_df['fit'] = win_incum_logreg.predict(fit_df)\n",
    "\n",
    "fit_df.plot(x = 'incumbent_dum',\n",
    "             y = 'fit',\n",
    "             legend = False,\n",
    "             figsize = (10,6),\n",
    "             color = 'black',\n",
    "            title = 'Estimated Probability of a Win');"
   ]
  },
  {
   "cell_type": "code",
   "execution_count": 74,
   "id": "e3e7433e",
   "metadata": {},
   "outputs": [],
   "source": [
    "all_candidates['tot_money_spent'] =(all_candidates\n",
    ".groupby(['state', 'district'])['spent']\n",
    ".transform(sum)\n",
    ")"
   ]
  },
  {
   "cell_type": "code",
   "execution_count": 76,
   "id": "2bad4b14",
   "metadata": {},
   "outputs": [],
   "source": [
    "all_candidates['percent_spent'] = (\n",
    "    (all_candidates['spent'] / all_candidates['tot_money_spent'] * 100)\n",
    "    .round(2)\n",
    ")"
   ]
  },
  {
   "cell_type": "code",
   "execution_count": 77,
   "id": "db37bc6f",
   "metadata": {},
   "outputs": [
    {
     "name": "stdout",
     "output_type": "stream",
     "text": [
      "Optimization terminated successfully.\n",
      "         Current function value: 0.243753\n",
      "         Iterations 8\n"
     ]
    }
   ],
   "source": [
    "win_per_spent_logreg = smf.logit(\"winner_dum ~ percent_spent\",\n",
    "                          data = all_candidates).fit()"
   ]
  },
  {
   "cell_type": "code",
   "execution_count": 100,
   "id": "bccb35df",
   "metadata": {},
   "outputs": [
    {
     "data": {
      "text/html": [
       "<table class=\"simpletable\">\n",
       "<caption>Logit Regression Results</caption>\n",
       "<tr>\n",
       "  <th>Dep. Variable:</th>      <td>winner_dum</td>    <th>  No. Observations:  </th>   <td>   892</td>  \n",
       "</tr>\n",
       "<tr>\n",
       "  <th>Model:</th>                 <td>Logit</td>      <th>  Df Residuals:      </th>   <td>   890</td>  \n",
       "</tr>\n",
       "<tr>\n",
       "  <th>Method:</th>                 <td>MLE</td>       <th>  Df Model:          </th>   <td>     1</td>  \n",
       "</tr>\n",
       "<tr>\n",
       "  <th>Date:</th>            <td>Sat, 15 Oct 2022</td> <th>  Pseudo R-squ.:     </th>   <td>0.5991</td>  \n",
       "</tr>\n",
       "<tr>\n",
       "  <th>Time:</th>                <td>12:58:09</td>     <th>  Log-Likelihood:    </th>  <td> -247.65</td> \n",
       "</tr>\n",
       "<tr>\n",
       "  <th>converged:</th>             <td>True</td>       <th>  LL-Null:           </th>  <td> -617.78</td> \n",
       "</tr>\n",
       "<tr>\n",
       "  <th>Covariance Type:</th>     <td>nonrobust</td>    <th>  LLR p-value:       </th> <td>5.229e-163</td>\n",
       "</tr>\n",
       "</table>\n",
       "<table class=\"simpletable\">\n",
       "<tr>\n",
       "        <td></td>           <th>coef</th>     <th>std err</th>      <th>z</th>      <th>P>|z|</th>  <th>[0.025</th>    <th>0.975]</th>  \n",
       "</tr>\n",
       "<tr>\n",
       "  <th>Intercept</th>     <td>   -2.0060</td> <td>    0.138</td> <td>  -14.588</td> <td> 0.000</td> <td>   -2.275</td> <td>   -1.736</td>\n",
       "</tr>\n",
       "<tr>\n",
       "  <th>incumbent_dum</th> <td>    5.2141</td> <td>    0.297</td> <td>   17.550</td> <td> 0.000</td> <td>    4.632</td> <td>    5.796</td>\n",
       "</tr>\n",
       "</table>"
      ],
      "text/plain": [
       "<class 'statsmodels.iolib.summary.Summary'>\n",
       "\"\"\"\n",
       "                           Logit Regression Results                           \n",
       "==============================================================================\n",
       "Dep. Variable:             winner_dum   No. Observations:                  892\n",
       "Model:                          Logit   Df Residuals:                      890\n",
       "Method:                           MLE   Df Model:                            1\n",
       "Date:                Sat, 15 Oct 2022   Pseudo R-squ.:                  0.5991\n",
       "Time:                        12:58:09   Log-Likelihood:                -247.65\n",
       "converged:                       True   LL-Null:                       -617.78\n",
       "Covariance Type:            nonrobust   LLR p-value:                5.229e-163\n",
       "=================================================================================\n",
       "                    coef    std err          z      P>|z|      [0.025      0.975]\n",
       "---------------------------------------------------------------------------------\n",
       "Intercept        -2.0060      0.138    -14.588      0.000      -2.275      -1.736\n",
       "incumbent_dum     5.2141      0.297     17.550      0.000       4.632       5.796\n",
       "=================================================================================\n",
       "\"\"\""
      ]
     },
     "execution_count": 100,
     "metadata": {},
     "output_type": "execute_result"
    }
   ],
   "source": [
    "win_incum_logreg.summary()"
   ]
  },
  {
   "cell_type": "code",
   "execution_count": 79,
   "id": "c67b2834",
   "metadata": {},
   "outputs": [
    {
     "data": {
      "image/png": "[encoded data removed]",
      "text/plain": [
       "<Figure size 720x432 with 1 Axes>"
      ]
     },
     "metadata": {},
     "output_type": "display_data"
    }
   ],
   "source": [
    "fit_df = pd.DataFrame({\n",
    "    'percent_spent': np.linspace(start = all_candidates['percent_spent'].min(),\n",
    "                            stop = all_candidates['percent_spent'].max(),\n",
    "                            num = 150)\n",
    "})\n",
    "\n",
    "fit_df['fit'] = win_per_spent_logreg.predict(fit_df)\n",
    "\n",
    "fit_df.plot(x = 'percent_spent',\n",
    "             y = 'fit',\n",
    "             legend = False,\n",
    "             figsize = (10,6),\n",
    "             color = 'black',\n",
    "            title = 'Estimated Probability of a Win');"
   ]
  },
  {
   "cell_type": "code",
   "execution_count": 107,
   "id": "ca3265e9",
   "metadata": {},
   "outputs": [
    {
     "name": "stdout",
     "output_type": "stream",
     "text": [
      "Optimization terminated successfully.\n",
      "         Current function value: 0.182460\n",
      "         Iterations 8\n"
     ]
    }
   ],
   "source": [
    "win_incum_per_spent_logreg = smf.logit(\"winner_dum ~ incumbent_dum + percent_spent\",\n",
    "                          data = all_candidates).fit()"
   ]
  },
  {
   "cell_type": "code",
   "execution_count": 85,
   "id": "15fbdd1f",
   "metadata": {},
   "outputs": [
    {
     "name": "stdout",
     "output_type": "stream",
     "text": [
      "Optimization terminated successfully.\n",
      "         Current function value: 0.692582\n",
      "         Iterations 3\n"
     ]
    }
   ],
   "source": [
    "reduced_model = smf.logit('winner_dum ~ 1',\n",
    "                        data = all_candidates).fit()"
   ]
  },
  {
   "cell_type": "code",
   "execution_count": 87,
   "id": "8dd0b300",
   "metadata": {},
   "outputs": [],
   "source": [
    "def dd_test(reduced_model, full_model):\n",
    "    G2 = -2 * (reduced_model.llf - full_model.llf)\n",
    "    df = full_model.df_model - reduced_model.df_model\n",
    "    return chi2.sf(G2, df = df)"
   ]
  },
  {
   "cell_type": "code",
   "execution_count": 97,
   "id": "dc533bd1",
   "metadata": {},
   "outputs": [
    {
     "data": {
      "text/plain": [
       "3.7812306868186874e-176"
      ]
     },
     "execution_count": 97,
     "metadata": {},
     "output_type": "execute_result"
    }
   ],
   "source": [
    "dd_test(reduced_model, win_per_spent_logreg)"
   ]
  },
  {
   "cell_type": "code",
   "execution_count": 98,
   "id": "6577ee45",
   "metadata": {},
   "outputs": [
    {
     "data": {
      "text/plain": [
       "5.228643940879279e-163"
      ]
     },
     "execution_count": 98,
     "metadata": {},
     "output_type": "execute_result"
    }
   ],
   "source": [
    "dd_test(reduced_model, win_incum_logreg)"
   ]
  },
  {
   "cell_type": "code",
   "execution_count": 95,
   "id": "73f8ce1d",
   "metadata": {},
   "outputs": [
    {
     "data": {
      "text/plain": [
       "1.363143088610387e-25"
      ]
     },
     "execution_count": 95,
     "metadata": {},
     "output_type": "execute_result"
    }
   ],
   "source": [
    "dd_test(win_per_spent_logreg, win_incum_per_spent_logreg)"
   ]
  },
  {
   "cell_type": "code",
   "execution_count": 96,
   "id": "40ba784b",
   "metadata": {},
   "outputs": [
    {
     "data": {
      "text/plain": [
       "8.252787790632775e-39"
      ]
     },
     "execution_count": 96,
     "metadata": {},
     "output_type": "execute_result"
    }
   ],
   "source": [
    "dd_test(win_incum_logreg, win_incum_per_spent_logreg)"
   ]
  },
  {
   "cell_type": "code",
   "execution_count": 116,
   "id": "df68b1c2",
   "metadata": {},
   "outputs": [
    {
     "name": "stdout",
     "output_type": "stream",
     "text": [
      "Optimization terminated successfully.\n",
      "         Current function value: 0.181388\n",
      "         Iterations 8\n"
     ]
    }
   ],
   "source": [
    "win_interact_incum_per_spent_logreg = smf.logit(\n",
    "    \"winner_dum ~ incumbent_dum + percent_spent + incumbent_dum:percent_spent\",\n",
    "                          data = all_candidates).fit()"
   ]
  },
  {
   "cell_type": "code",
   "execution_count": 117,
   "id": "e1051067",
   "metadata": {},
   "outputs": [
    {
     "data": {
      "text/plain": [
       "0.16656500582027997"
      ]
     },
     "execution_count": 117,
     "metadata": {},
     "output_type": "execute_result"
    }
   ],
   "source": [
    "dd_test(win_incum_per_spent_logreg, win_interact_incum_per_spent_logreg)"
   ]
  },
  {
   "cell_type": "code",
   "execution_count": null,
   "id": "db36f2e7",
   "metadata": {},
   "outputs": [],
   "source": []
  }
 ],
 "metadata": {
  "kernelspec": {
   "display_name": "Python 3 (ipykernel)",
   "language": "python",
   "name": "python3"
  },
  "language_info": {
   "codemirror_mode": {
    "name": "ipython",
    "version": 3
   },
   "file_extension": ".py",
   "mimetype": "text/x-python",
   "name": "python",
   "nbconvert_exporter": "python",
   "pygments_lexer": "ipython3",
   "version": "3.9.12"
  }
 },
 "nbformat": 4,
 "nbformat_minor": 5
}

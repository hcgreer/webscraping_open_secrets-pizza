{
 "cells": [
  {
   "cell_type": "code",
   "execution_count": 75,
   "id": "8fa1c455",
   "metadata": {},
   "outputs": [],
   "source": [
    "import requests\n",
    "from bs4 import BeautifulSoup as BS\n",
    "import pandas as pd\n",
    "import re\n",
    "import time\n",
    "import matplotlib.pyplot as plt\n",
    "import seaborn as sns\n",
    "sns.set_theme(style = 'dark', palette = 'Dark2')"
   ]
  },
  {
   "cell_type": "code",
   "execution_count": 34,
   "id": "5c635fa2",
   "metadata": {},
   "outputs": [],
   "source": [
    "URL = 'https://www.opensecrets.org/races/candidates?cycle=2020&id=TN07&spec=N'\n",
    "\n",
    "response = requests.get(URL)"
   ]
  },
  {
   "cell_type": "code",
   "execution_count": 41,
   "id": "5cda6652",
   "metadata": {},
   "outputs": [
    {
     "data": {
      "text/plain": [
       "str"
      ]
     },
     "execution_count": 41,
     "metadata": {},
     "output_type": "execute_result"
    }
   ],
   "source": [
    "state = re.search(\n",
    "    r'[A-Z][a-z]+(?: [A-Z][a-hj-z][a-z]+)?', \n",
    "    BS(response.text).findAll('title')[0].text \n",
    ")[0]\n",
    "type(state)"
   ]
  },
  {
   "cell_type": "code",
   "execution_count": 36,
   "id": "edd1fc56",
   "metadata": {},
   "outputs": [
    {
     "data": {
      "text/plain": [
       "str"
      ]
     },
     "execution_count": 36,
     "metadata": {},
     "output_type": "execute_result"
    }
   ],
   "source": [
    "district = re.search(\n",
    "    r'District [0-9]{2}', \n",
    "    BS(response.text).findAll('title')[0].text\n",
    ")[0]\n",
    "type(district)"
   ]
  },
  {
   "cell_type": "code",
   "execution_count": 37,
   "id": "31053a21",
   "metadata": {},
   "outputs": [],
   "source": [
    "state_dict = {\n",
    "    'State' : [state],\n",
    "    'District' : [district]\n",
    "}"
   ]
  },
  {
   "cell_type": "code",
   "execution_count": 38,
   "id": "16e80a4b",
   "metadata": {},
   "outputs": [
    {
     "data": {
      "text/html": [
       "<div>\n",
       "<style scoped>\n",
       "    .dataframe tbody tr th:only-of-type {\n",
       "        vertical-align: middle;\n",
       "    }\n",
       "\n",
       "    .dataframe tbody tr th {\n",
       "        vertical-align: top;\n",
       "    }\n",
       "\n",
       "    .dataframe thead th {\n",
       "        text-align: right;\n",
       "    }\n",
       "</style>\n",
       "<table border=\"1\" class=\"dataframe\">\n",
       "  <thead>\n",
       "    <tr style=\"text-align: right;\">\n",
       "      <th></th>\n",
       "      <th>State</th>\n",
       "      <th>District</th>\n",
       "    </tr>\n",
       "  </thead>\n",
       "  <tbody>\n",
       "    <tr>\n",
       "      <th>0</th>\n",
       "      <td>Tennessee</td>\n",
       "      <td>District 07</td>\n",
       "    </tr>\n",
       "  </tbody>\n",
       "</table>\n",
       "</div>"
      ],
      "text/plain": [
       "       State     District\n",
       "0  Tennessee  District 07"
      ]
     },
     "execution_count": 38,
     "metadata": {},
     "output_type": "execute_result"
    }
   ],
   "source": [
    "pd.DataFrame.from_dict(state_dict)"
   ]
  },
  {
   "cell_type": "code",
   "execution_count": 18,
   "id": "1b03f515",
   "metadata": {},
   "outputs": [],
   "source": [
    "def district_scraper(state, district):\n",
    "    URL = f'https://www.opensecrets.org/races/candidates?cycle=2020&id={state}{district}&spec=N'\n",
    "    \n",
    "    request_url = requests.get(URL)\n",
    "    tm=0\n",
    "\n",
    "    while request_url.status_code != 200:\n",
    "        print('Waiting for ' + state + ' ' + district +'.')\n",
    "        time.sleep(10)\n",
    "        request_url = requests.get(URL)\n",
    "        tm = tm + 1\n",
    "        if tm == 10:\n",
    "            break\n",
    "    \n",
    "    \n",
    "    soup = BS(request_url.text)\n",
    "    \n",
    "    candidate_list = [x.text.strip() for x in soup.find_all('strong')]\n",
    "    finances = (pd\n",
    "        .read_html(\n",
    "            str(soup.findAll('table', attrs={'class' : 'Members--table'}))\n",
    "                .replace('$','')\n",
    "                .replace(':', '')\n",
    "        )\n",
    "    )\n",
    "    \n",
    "    \n",
    "    temp_df = pd.DataFrame()\n",
    "    \n",
    "    temp_df['name'] = [re.findall(r'(.+ .+) \\(\\w', item)[0] for item in candidate_list]\n",
    "    \n",
    "    temp_df['party'] = [re.findall(r'\\((\\w)\\)', item)[0] for item in candidate_list]\n",
    "    \n",
    "    temp_df['state'] = str(re.search(r'[A-Z][a-z]+(?: [A-Z][a-z][a-rt-z][a-z]+)?',\n",
    "                                     soup.findAll('title')[0].text)[0])\n",
    "    \n",
    "    temp_df['district'] = str(re.findall(r'District ([0-9]{2})', soup.findAll('title')[0].text)[0])\n",
    "    \n",
    "    temp_df['incumbent'] = ['Incumbent' if re.search(r'(Incumbent)', str(item)) != None \n",
    "                            else 'Not Incumbent' for item in candidate_list]\n",
    "    \n",
    "    temp_df['winner'] = ['Winner' if re.search(r'(Winner)', str(item)) is not None\n",
    "                              else 'Not Winner' for item in candidate_list]\n",
    "    \n",
    "    temp_df['vote'] = [re.findall(r'(\\d*[.?]\\d*\\%)', item)[0] for item in candidate_list]\n",
    "    \n",
    "    temp_df['raised'] = [finances[i].iloc[0,1] for i in range(len(candidate_list))]\n",
    "    \n",
    "    temp_df['spent'] = [finances[i].iloc[1,1] for i in range(len(candidate_list))]\n",
    "    \n",
    "    temp_df['cash_on_hand'] = [finances[i].iloc[2,1] for i in range(len(candidate_list))]\n",
    "    \n",
    "    global candidate_df\n",
    "    candidate_df = pd.concat([candidate_df, temp_df])\n",
    "    candidate_df = candidate_df.reset_index(drop=True)"
   ]
  },
  {
   "cell_type": "code",
   "execution_count": 3,
   "id": "75695bcc",
   "metadata": {},
   "outputs": [],
   "source": [
    "district_dict = {\n",
    "'AL': 7, 'AK': 1, 'AZ': 9, 'AR': 4, 'CA': 53, 'CO': 7, 'CT': 5, 'DE': 1,'FL': 27, 'GA': 14, \n",
    "'HI': 2, 'ID': 2, 'IL': 18, 'IN': 9, 'IA': 4, 'KS': 4, 'KY': 6, 'LA': 6, 'ME': 2, 'MD': 8,\n",
    "'MA': 9, 'MI': 14, 'MN': 8, 'MS': 4, 'MO': 8, 'MT': 1, 'NE': 3, 'NV': 4, 'NH': 2, 'NJ': 12,\n",
    "'NM': 3, 'NY': 27, 'NC': 13, 'ND': 1, 'OH': 16, 'OK': 5, 'OR': 5, 'PA': 18, 'RI': 2, 'SC': 7,\n",
    "'SD': 1, 'TN': 9, 'TX': 36, 'UT': 4, 'VT': 1, 'VA': 11, 'WA': 10, 'WV': 3, 'WI': 8, 'WY': 1\n",
    "}"
   ]
  },
  {
   "cell_type": "code",
   "execution_count": 13,
   "id": "73230717",
   "metadata": {},
   "outputs": [],
   "source": [
    "def state_candidate(state = all, district = all):\n",
    "    global candidate_df\n",
    "    candidate_df = pd.DataFrame()\n",
    "    global district_dict\n",
    "\n",
    "    if state == all and district == all:\n",
    "        for s, d in district_dict.items():\n",
    "            for num in range(1, d + 1):\n",
    "                district_scraper(str(s), str(num).zfill(2))\n",
    "    \n",
    "    elif district == all:\n",
    "        for num in range(1, district_dict[state] + 1):\n",
    "            district_scraper(str(state), str(num).zfill(2))\n",
    "    \n",
    "    elif state == all:\n",
    "        for s, d in district_dict.items():\n",
    "            try:   \n",
    "                district_scraper(str(s), str(district).zfill(2))\n",
    "            except:\n",
    "                pass\n",
    "    \n",
    "    else:\n",
    "        district_scraper(str(state), str(district).zfill(2))\n",
    "    \n",
    "    return candidate_df"
   ]
  },
  {
   "cell_type": "code",
   "execution_count": 14,
   "id": "f166d8de",
   "metadata": {},
   "outputs": [
    {
     "name": "stdout",
     "output_type": "stream",
     "text": [
      "waiting for MN07\n",
      "waiting for MN07\n",
      "waiting for MN07\n",
      "waiting for MN07\n",
      "waiting for MN07\n",
      "waiting for MN07\n",
      "waiting for MN07\n",
      "waiting for WI06\n",
      "waiting for WI06\n",
      "waiting for WI06\n",
      "waiting for WI06\n",
      "waiting for WI06\n",
      "waiting for WI06\n",
      "waiting for WI06\n"
     ]
    }
   ],
   "source": [
    "state_candidate(all, all).to_csv('../data/all_candidates.csv')"
   ]
  },
  {
   "cell_type": "code",
   "execution_count": 15,
   "id": "350df82e",
   "metadata": {},
   "outputs": [],
   "source": [
    "all_candidates = pd.read_csv('../data/all_candidates.csv')"
   ]
  },
  {
   "cell_type": "code",
   "execution_count": 16,
   "id": "100c900e",
   "metadata": {},
   "outputs": [
    {
     "data": {
      "text/plain": [
       "(892, 11)"
      ]
     },
     "execution_count": 16,
     "metadata": {},
     "output_type": "execute_result"
    }
   ],
   "source": [
    "all_candidates.shape"
   ]
  },
  {
   "cell_type": "code",
   "execution_count": 89,
   "id": "6bb4476d",
   "metadata": {},
   "outputs": [
    {
     "data": {
      "text/plain": [
       "winner\n",
       "Winner        384\n",
       "Not Winner     51\n",
       "Name: name, dtype: int64"
      ]
     },
     "execution_count": 89,
     "metadata": {},
     "output_type": "execute_result"
    }
   ],
   "source": [
    "all_candidates[\n",
    "    all_candidates['raised'].isin(all_candidates.groupby(['state', 'district'])['raised'].max())\n",
    "].groupby('winner')['name'].count().sort_values(ascending = False)"
   ]
  },
  {
   "cell_type": "code",
   "execution_count": 90,
   "id": "e990bdd9",
   "metadata": {},
   "outputs": [
    {
     "data": {
      "text/plain": [
       "winner\n",
       "Winner        381\n",
       "Not Winner     54\n",
       "Name: name, dtype: int64"
      ]
     },
     "execution_count": 90,
     "metadata": {},
     "output_type": "execute_result"
    }
   ],
   "source": [
    "all_candidates[\n",
    "    all_candidates['spent'].isin(all_candidates.groupby(['state', 'district'])['spent'].max())\n",
    "].groupby('winner')['name'].count().sort_values(ascending = False)"
   ]
  },
  {
   "cell_type": "markdown",
   "id": "76b498c1",
   "metadata": {},
   "source": [
    "## Part c\n",
    "Yes"
   ]
  },
  {
   "cell_type": "code",
   "execution_count": 88,
   "id": "77993214",
   "metadata": {},
   "outputs": [
    {
     "data": {
      "text/plain": [
       "winner\n",
       "Winner        371\n",
       "Not Winner     15\n",
       "Name: name, dtype: int64"
      ]
     },
     "execution_count": 88,
     "metadata": {},
     "output_type": "execute_result"
    }
   ],
   "source": [
    "all_candidates.loc[\n",
    "    all_candidates['incumbent'] == 'Incumbent'\n",
    "].groupby('winner')['name'].count().sort_values(ascending = False)"
   ]
  },
  {
   "cell_type": "code",
   "execution_count": 92,
   "id": "7427315e",
   "metadata": {},
   "outputs": [
    {
     "data": {
      "image/png": "[encoded data removed]",
      "text/plain": [
       "<Figure size 720x432 with 1 Axes>"
      ]
     },
     "metadata": {},
     "output_type": "display_data"
    }
   ],
   "source": [
    "fig, ax = plt.subplots(figsize = (10,6))\n",
    "\n",
    "sns.boxplot(\n",
    "    data = all_candidates,\n",
    "    x = all_candidates['raised'] / 1000,\n",
    "    y = all_candidates['incumbent'].sort_values(),\n",
    "    ax = ax\n",
    ").set(\n",
    "    xlabel='Raised per 1000 dollars', \n",
    "    ylabel = ' '\n",
    ");"
   ]
  },
  {
   "cell_type": "code",
   "execution_count": 96,
   "id": "d3270d02",
   "metadata": {
    "scrolled": true
   },
   "outputs": [
    {
     "data": {
      "image/png": "[encoded data removed]",
      "text/plain": [
       "<Figure size 720x432 with 1 Axes>"
      ]
     },
     "metadata": {},
     "output_type": "display_data"
    }
   ],
   "source": [
    "fig, ax = plt.subplots(figsize = (10,6))\n",
    "\n",
    "sns.boxplot(\n",
    "    data = all_candidates,\n",
    "    x = all_candidates['raised'] / 1000,\n",
    "    y = all_candidates['incumbent'].sort_values(),\n",
    "    ax = ax\n",
    ").set(\n",
    "    xlabel='Raised per 1000 dollars', \n",
    "    ylabel = ' '\n",
    ");\n",
    "ax.set_xlim(0, 10000);"
   ]
  },
  {
   "cell_type": "code",
   "execution_count": null,
   "id": "e88ea499",
   "metadata": {},
   "outputs": [],
   "source": []
  }
 ],
 "metadata": {
  "kernelspec": {
   "display_name": "Python 3 (ipykernel)",
   "language": "python",
   "name": "python3"
  },
  "language_info": {
   "codemirror_mode": {
    "name": "ipython",
    "version": 3
   },
   "file_extension": ".py",
   "mimetype": "text/x-python",
   "name": "python",
   "nbconvert_exporter": "python",
   "pygments_lexer": "ipython3",
   "version": "3.9.12"
  }
 },
 "nbformat": 4,
 "nbformat_minor": 5
}
